{
 "cells": [
  {
   "cell_type": "code",
   "execution_count": 3,
   "metadata": {},
   "outputs": [
    {
     "name": "stdout",
     "output_type": "stream",
     "text": [
      "10219\n"
     ]
    }
   ],
   "source": [
    "import os\n",
    "import dotenv\n",
    "\n",
    "dotenv.load_dotenv()\n",
    "\n",
    "CONNECTION = os.getenv(\"SQLALCHEMY_STOCKS1DAY_URI\")\n",
    "TWELVEDATA_KEY = os.getenv(\"TWELVEDATA_API_KEY\")\n",
    "\n",
    "\n",
    "from sqlalchemy import create_engine, text\n",
    "\n",
    "engine = create_engine(CONNECTION)\n",
    "with engine.connect() as conn:\n",
    "    cursor = conn.execute(text(\"SELECT name FROM sqlite_master WHERE type='table';\"))\n",
    "    print([name[0] for name in cursor].__len__())"
   ]
  },
  {
   "cell_type": "code",
   "execution_count": 2,
   "metadata": {},
   "outputs": [
    {
     "name": "stdout",
     "output_type": "stream",
     "text": [
      "Num stocks:  7252\n",
      "Num etfs:  3065\n",
      "Remaining symbols:  99\n"
     ]
    }
   ],
   "source": [
    "import requests\n",
    "# stocks list\n",
    "STOCK_LIST_URL = \"https://api.twelvedata.com/stocks?exchange={}&apikey={}\"\n",
    "NYSE_STOCK_LIST_RESPONSE: dict = requests.get(STOCK_LIST_URL.format(\"NYSE\", TWELVEDATA_KEY)).json()\n",
    "NASDAQ_STOCK_LIST_RESPONSE: dict = requests.get(STOCK_LIST_URL.format(\"NASDAQ\", TWELVEDATA_KEY)).json()\n",
    "stock_symbols = set(stock[\"symbol\"] for stock in NYSE_STOCK_LIST_RESPONSE[\"data\"] if stock[\"symbol\"].isalnum()) | set(stock[\"symbol\"] for stock in NASDAQ_STOCK_LIST_RESPONSE[\"data\"] if stock[\"symbol\"].isalnum())\n",
    "print(\"Num stocks: \", stock_symbols.__len__())\n",
    "# etf list\n",
    "ETF_LIST_URL = \"https://api.twelvedata.com/etfs?exchange={}&apikey={}\"\n",
    "NYSE_ETF_LIST_RESPONSE: dict = requests.get(ETF_LIST_URL.format(\"NYSE\", TWELVEDATA_KEY)).json()\n",
    "NASDAQ_ETF_LIST_RESPONSE: dict = requests.get(ETF_LIST_URL.format(\"NASDAQ\", TWELVEDATA_KEY)).json()\n",
    "etf_symbols = set(stock[\"symbol\"] for stock in NYSE_ETF_LIST_RESPONSE[\"data\"] if stock[\"symbol\"].isalnum()) | set(stock[\"symbol\"] for stock in NASDAQ_ETF_LIST_RESPONSE[\"data\"] if stock[\"symbol\"].isalnum())\n",
    "print(\"Num etfs: \", etf_symbols.__len__())\n",
    "\n",
    "engine = create_engine(CONNECTION)\n",
    "existing_tables = ()\n",
    "with engine.connect() as conn:\n",
    "    cursor = conn.execute(text(\"SELECT name FROM sqlite_master WHERE type='table';\"))\n",
    "    existing_tables = set([name[0] for name in cursor])\n",
    "\n",
    "symbols = list((stock_symbols | etf_symbols) - existing_tables)\n",
    "print(\"Remaining symbols: \", symbols.__len__())"
   ]
  },
  {
   "cell_type": "code",
   "execution_count": 4,
   "metadata": {},
   "outputs": [
    {
     "name": "stdout",
     "output_type": "stream",
     "text": [
      "Log price subtraction: 0.19434698958331015\n",
      "Regular Return: 0.21451763481768021\n",
      "Log sum: 0.19434698958331026\n",
      "Reg sum: 0.20239356110270335\n",
      "Annualized return: 0.824009929494261\n"
     ]
    },
    {
     "name": "stderr",
     "output_type": "stream",
     "text": [
      "/tmp/ipykernel_58759/1465022030.py:8: FutureWarning: Series.__getitem__ treating keys as positions is deprecated. In a future version, integer keys will always be treated as labels (consistent with DataFrame behavior). To access a value by position, use `ser.iloc[pos]`\n",
      "  print(\"Log price subtraction:\", np.log(df[\"close\"][0] / df[\"close\"][251]))\n",
      "/tmp/ipykernel_58759/1465022030.py:9: FutureWarning: Series.__getitem__ treating keys as positions is deprecated. In a future version, integer keys will always be treated as labels (consistent with DataFrame behavior). To access a value by position, use `ser.iloc[pos]`\n",
      "  print(\"Regular Return:\", (df[\"close\"][0] - df[\"close\"][251]) / df[\"close\"][251])\n",
      "/tmp/ipykernel_58759/1465022030.py:12: FutureWarning: Series.__getitem__ treating keys as positions is deprecated. In a future version, integer keys will always be treated as labels (consistent with DataFrame behavior). To access a value by position, use `ser.iloc[pos]`\n",
      "  print(\"Annualized return:\", (df[\"close\"][0] / df[\"close\"][251])**(1/251-1))\n"
     ]
    }
   ],
   "source": [
    "import pandas as pd\n",
    "from sqlalchemy import create_engine\n",
    "from scipy.stats import entropy, gaussian_kde, norm\n",
    "import numpy as np\n",
    "\n",
    "df = pd.read_sql_table(\"SPY\", engine, index_col=\"timestamp\")\n",
    "\n",
    "print(\"Log price subtraction:\", np.log(df[\"close\"][0] / df[\"close\"][251]))\n",
    "print(\"Regular Return:\", (df[\"close\"][0] - df[\"close\"][251]) / df[\"close\"][251])\n",
    "print(\"Log sum:\", np.sum(df[\"log_return\"][:251]))\n",
    "print(\"Reg sum:\", np.sum(df[\"return\"][:251]))\n",
    "print(\"Annualized return:\", (df[\"close\"][0] / df[\"close\"][251])**(1/251-1))\n",
    "\n",
    "\n"
   ]
  },
  {
   "cell_type": "code",
   "execution_count": 5,
   "metadata": {},
   "outputs": [
    {
     "name": "stdout",
     "output_type": "stream",
     "text": [
      "timestamp\n",
      "2006-04-03    0.089699\n",
      "2006-04-04    0.096076\n",
      "2006-04-05    0.094135\n",
      "2006-04-06    0.103520\n",
      "2006-04-07    0.092543\n",
      "                ...   \n",
      "2025-02-10    0.187975\n",
      "2025-02-11    0.189175\n",
      "2025-02-12    0.199817\n",
      "2025-02-13    0.201272\n",
      "2025-02-14    0.194347\n",
      "Name: log_return, Length: 4750, dtype: float64\n"
     ]
    },
    {
     "data": {
      "text/plain": [
       "0.07955745250589819"
      ]
     },
     "execution_count": 5,
     "metadata": {},
     "output_type": "execute_result"
    }
   ],
   "source": [
    "from scipy.stats import gaussian_kde\n",
    "from scipy.integrate import quad\n",
    "annual_returns = df[\"log_return\"][::-1].rolling(window=251).sum().dropna()\n",
    "print(annual_returns)\n",
    "kde = gaussian_kde(annual_returns)\n",
    "num_points = 1000\n",
    "possible_returns = np.linspace(-1, 1, num_points)\n",
    "densities = kde.pdf(possible_returns)\n",
    "total_density = np.sum(densities)\n",
    "probabilities = densities/total_density\n",
    "np.sum(possible_returns * probabilities)"
   ]
  },
  {
   "cell_type": "code",
   "execution_count": 11,
   "metadata": {},
   "outputs": [
    {
     "data": {
      "text/plain": [
       "0.09656232560810077"
      ]
     },
     "execution_count": 11,
     "metadata": {},
     "output_type": "execute_result"
    }
   ],
   "source": [
    "def calculate_expected_return(df: pd.DataFrame) -> float:\n",
    "    # get rolling annual returns at every day\n",
    "    annual_returns = df[\"return\"][::-1].rolling(window=251).apply(lambda x: np.prod(x+1)-1).dropna()\n",
    "    # estimate the PDF using gaussian kernel density estimation\n",
    "    try:\n",
    "        kde = gaussian_kde(annual_returns)\n",
    "    except:\n",
    "        return -1\n",
    "    # get a range of 1000 discrete possible returns,\n",
    "    # bounding daily returns between 100% and -100%\n",
    "    possible_returns = np.linspace(-1, 1, 1000)\n",
    "    # get density estimates for each possible return\n",
    "    densities = kde.pdf(possible_returns)\n",
    "    # get the expected return by multiplying each possible return by its probability\n",
    "    # then summing over all possible returns\n",
    "    return np.sum(possible_returns * (densities/np.sum(densities)))"
   ]
  },
  {
   "cell_type": "code",
   "execution_count": null,
   "metadata": {},
   "outputs": [],
   "source": [
    "from pypfopt import black_litterman\n",
    "from pypfopt.black_litterman import BlackLittermanModel\n",
    "from pypfopt.efficient_frontier import EfficientFrontier"
   ]
  }
 ],
 "metadata": {
  "kernelspec": {
   "display_name": "ticker",
   "language": "python",
   "name": "python3"
  },
  "language_info": {
   "codemirror_mode": {
    "name": "ipython",
    "version": 3
   },
   "file_extension": ".py",
   "mimetype": "text/x-python",
   "name": "python",
   "nbconvert_exporter": "python",
   "pygments_lexer": "ipython3",
   "version": "3.10.16"
  }
 },
 "nbformat": 4,
 "nbformat_minor": 2
}
